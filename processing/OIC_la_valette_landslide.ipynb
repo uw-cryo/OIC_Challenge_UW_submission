{
 "cells": [
  {
   "cell_type": "code",
   "execution_count": 4,
   "id": "a11eb513-f102-4fc6-9989-2c5b0420fc16",
   "metadata": {},
   "outputs": [],
   "source": [
    "%matplotlib inline"
   ]
  },
  {
   "cell_type": "markdown",
   "id": "abdb0fd0-2b82-4195-9d2f-a5945fd43830",
   "metadata": {},
   "source": [
    "##TODO postprocessing and filtering"
   ]
  },
  {
   "cell_type": "code",
   "execution_count": 2,
   "id": "ad587294-25bc-4781-acc4-22208d3dc7ae",
   "metadata": {},
   "outputs": [],
   "source": [
    "import os,sys,glob,shutil\n",
    "import numpy as np\n",
    "import pandas as pd\n",
    "import geopandas as gpd\n",
    "import matplotlib.pyplot as plt\n",
    "from pygeotools.lib import iolib,geolib,malib,warplib,timelib\n",
    "from imview import pltlib\n",
    "from itertools import combinations\n",
    "from distutils.spawn import find_executable"
   ]
  },
  {
   "cell_type": "code",
   "execution_count": 6,
   "id": "c45d1f76-035a-409c-8154-317ca6c36a91",
   "metadata": {},
   "outputs": [
    {
     "name": "stdout",
     "output_type": "stream",
     "text": [
      "/nobackupp11/sbhusha1/oic_challenge/la_valette_landslide/Data-2_SLIDE-LaValette/Sentinel-2\n"
     ]
    }
   ],
   "source": [
    "%cd /nobackup/sbhusha1/oic_challenge/la_valette_landslide/Data-2_SLIDE-LaValette/Sentinel-2/"
   ]
  },
  {
   "cell_type": "markdown",
   "id": "b557fd56-75ad-45d9-bf25-ddf407a9e9ed",
   "metadata": {},
   "source": [
    "## S2 MGM"
   ]
  },
  {
   "cell_type": "code",
   "execution_count": 19,
   "id": "095fe904-495d-4fdf-b99a-6abbaba32d6c",
   "metadata": {},
   "outputs": [
    {
     "data": {
      "text/plain": [
       "'20150829T103026 20160902T103022 20170907T103021 20180828T103019 20190803T103029 20200906T102559 20210827T103021 20220901T102611 20230906T102601'"
      ]
     },
     "execution_count": 19,
     "metadata": {},
     "output_type": "execute_result"
    }
   ],
   "source": [
    "' '.join(date_list)"
   ]
  },
  {
   "cell_type": "code",
   "execution_count": 18,
   "id": "c2bca573-3647-4a53-9ba4-d12a2c212e4e",
   "metadata": {},
   "outputs": [],
   "source": [
    "date_list = ['20150829T103026', '20160902T103022', '20170907T103021','20180828T103019', '20190803T103029', '20200906T102559', '20210827T103021', '20220901T102611', '20230906T102601']\n",
    "img_list = []\n",
    "for idx,date in  enumerate(date_list):\n",
    "    img = sorted(glob.glob(f'T31TGK_{date}*.tif'))[0]\n",
    "    img_list.append(img)\n",
    "comb = list(combinations(img_list,2))\n",
    "job_fn = '/nobackupp11/sbhusha1/oic_challenge/la_valette_landslide/results/s2_mgm/s2_jobs.txt'\n",
    "with open(job_fn,'w') as f:\n",
    "    for pairs in comb:\n",
    "        img1,img2 = pairs\n",
    "        cmd = '/swbuild/sbhusha1/pip_git_sw/debris_cover_smb/scripts/disp_mgm_corr.py'\n",
    "        parameter_str = f\" -dt px -skip_rate 1 -pleiades {os.path.abspath(img1)} {os.path.abspath(img2)}\\n\"\n",
    "        f.write(cmd+parameter_str)"
   ]
  },
  {
   "cell_type": "markdown",
   "id": "3cc7c0b7-3f41-4417-8b68-a2193e177754",
   "metadata": {},
   "source": [
    "## S2 Block"
   ]
  },
  {
   "cell_type": "code",
   "execution_count": 10,
   "id": "1c2e0a85-66a5-4aaf-9442-584ec4380174",
   "metadata": {},
   "outputs": [],
   "source": [
    "date_list = ['20150829T103026', '20160902T103022', '20170907T103021','20180828T103019', '20190803T103029', '20200906T102559', '20210827T103021', '20220901T102611', '20230906T102601']\n",
    "img_list = []\n",
    "for idx,date in  enumerate(date_list):\n",
    "    img = sorted(glob.glob(f'T31TGK_{date}*.tif'))[0]\n",
    "    img_list.append(img)\n",
    "comb = list(combinations(img_list,2))\n",
    "job_fn = '/nobackupp11/sbhusha1/oic_challenge/la_valette_landslide/results/s2_block/s2_jobs.txt'\n",
    "with open(job_fn,'w') as f:\n",
    "    for pairs in comb:\n",
    "        img1,img2 = pairs\n",
    "        cmd = find_executable('vmap.py')\n",
    "        parameter_str = f\" {os.path.abspath(img1)} {os.path.abspath(img2)} -dt none\\n\"\n",
    "        f.write(cmd+parameter_str)"
   ]
  },
  {
   "cell_type": "markdown",
   "id": "9c7c961b-5024-497b-adcd-ce9fe2a9a00d",
   "metadata": {},
   "source": [
    "## Plieades"
   ]
  },
  {
   "cell_type": "code",
   "execution_count": 11,
   "id": "1a4d3d3c-2132-4968-b186-d03a179f3b47",
   "metadata": {},
   "outputs": [
    {
     "name": "stdout",
     "output_type": "stream",
     "text": [
      "/nobackupp11/sbhusha1/oic_challenge/la_valette_landslide/Data-2_SLIDE-LaValette/Pleiades/Pleiades_ortho\n"
     ]
    }
   ],
   "source": [
    "%cd /nobackup/sbhusha1/oic_challenge/la_valette_landslide/Data-2_SLIDE-LaValette/Pleiades/Pleiades_ortho"
   ]
  },
  {
   "cell_type": "code",
   "execution_count": 14,
   "id": "5c6dced9-50d0-435e-bbd9-6964d14f7ecc",
   "metadata": {},
   "outputs": [
    {
     "name": "stdout",
     "output_type": "stream",
     "text": [
      "20140620_Pleiades_LaValette_ortho_crop.tif\n",
      "20190608_Pleiades_LaValette_ortho_crop.tif\n",
      "20220801_Pleiades_LaValette_ortho_crop.tif\n"
     ]
    }
   ],
   "source": [
    "ls"
   ]
  },
  {
   "cell_type": "code",
   "execution_count": 13,
   "id": "90a4a742-62ab-420b-99f8-1e9fe6f57152",
   "metadata": {},
   "outputs": [],
   "source": [
    "date_list = ['20140620','20190608','20220801']\n",
    "img_list = []\n",
    "for idx,date in  enumerate(date_list):\n",
    "    img = sorted(glob.glob(f'{date}*.tif'))[0]\n",
    "    img_list.append(img)\n",
    "comb = list(combinations(img_list,2))\n",
    "job_fn = '/nobackupp11/sbhusha1/oic_challenge/la_valette_landslide/results/phr_ortho/phr_ortho_jobs.txt'\n",
    "with open(job_fn,'w') as f:\n",
    "    for pairs in comb:\n",
    "        img1,img2 = pairs\n",
    "        cmd = '/swbuild/sbhusha1/pip_git_sw/debris_cover_smb/scripts/disp_mgm_corr.py'\n",
    "        parameter_str = f\" -dt px -skip_rate 1 -pleiades {os.path.abspath(img1)} {os.path.abspath(img2)}\\n\"\n",
    "        f.write(cmd+parameter_str)"
   ]
  },
  {
   "cell_type": "markdown",
   "id": "d6237f3b-be4f-4301-8edd-4b804769df47",
   "metadata": {},
   "source": [
    "## Prepare displacement maps in m"
   ]
  },
  {
   "cell_type": "code",
   "execution_count": 7,
   "id": "8f3741f5-d3cf-43e6-a9c6-b713688549c5",
   "metadata": {},
   "outputs": [
    {
     "name": "stdout",
     "output_type": "stream",
     "text": [
      "/nobackupp11/sbhusha1/oic_challenge/la_valette_landslide/results\n"
     ]
    }
   ],
   "source": [
    "%cd /nobackup/sbhusha1/oic_challenge/la_valette_landslide/results/"
   ]
  },
  {
   "cell_type": "code",
   "execution_count": 38,
   "id": "1071fbea-144a-49f5-b5ca-73b6eaaef643",
   "metadata": {},
   "outputs": [
    {
     "name": "stdout",
     "output_type": "stream",
     "text": [
      "The program produced 36 velocity pairs\n"
     ]
    }
   ],
   "source": [
    "disp_rd_fn_list = sorted(glob.glob('s2_block/T*/T*F.tif'))\n",
    "print(f\"The program produced {len(disp_rd_fn_list)} velocity pairs\")\n",
    "                         "
   ]
  },
  {
   "cell_type": "code",
   "execution_count": 12,
   "id": "7f28a72a-d0ff-4249-a740-4816aae75d2f",
   "metadata": {},
   "outputs": [],
   "source": [
    "outdir = 'asp_block/Sentinel2/'\n",
    "ic_of_outdir = os.path.join(outdir,'IC-OF_RESULTS')\n",
    "velocity_outdir = os.path.join(outdir,'VELOCITY')\n",
    "displacement_outdir = os.path.join(outdir,'DISPLACEMENT')\n",
    "if not os.path.exists(outdir):\n",
    "    os.makedirs(outdir)\n",
    "if not os.path.exists(ic_of_outdir):\n",
    "    os.makedirs(ic_of_outdir)\n",
    "if not os.path.exists(velocity_outdir):\n",
    "    os.makedirs(velocity_outdir)\n",
    "if not os.path.exists(displacement_outdir):\n",
    "    os.makedirs(displacement_outdir)"
   ]
  },
  {
   "cell_type": "code",
   "execution_count": 13,
   "id": "5977c0ec-70dd-4e90-9139-9bd522f61152",
   "metadata": {},
   "outputs": [],
   "source": [
    "sample_disp_fn = disp_rd_fn_list[0]"
   ]
  },
  {
   "cell_type": "code",
   "execution_count": 14,
   "id": "e62bc332-24bc-4bf9-af68-1fcd55b85832",
   "metadata": {},
   "outputs": [
    {
     "data": {
      "text/plain": [
       "'s2_block/T31TGK_20150829T103026_B04__T31TGK_20160902T103022_B04_vmap_minm_35px_spm1/T31TGK_20150829T103026_B04__T31TGK_20160902T103022_B04_vmap_minm_35px_spm1-F.tif'"
      ]
     },
     "execution_count": 14,
     "metadata": {},
     "output_type": "execute_result"
    }
   ],
   "source": [
    "sample_disp_fn"
   ]
  },
  {
   "cell_type": "code",
   "execution_count": 16,
   "id": "00158187-a2d7-4fd0-b683-21d5f91f81c6",
   "metadata": {},
   "outputs": [],
   "source": [
    "ds = iolib.fn_getds(sample_disp_fn)\n",
    "disp_x,disp_y = [iolib.ds_getma(ds,x) for x in [1,2]]"
   ]
  },
  {
   "cell_type": "code",
   "execution_count": 27,
   "id": "31fccae2-db4f-4494-ab43-8368a1c5c15b",
   "metadata": {},
   "outputs": [],
   "source": [
    "res_x,res_y = geolib.get_res(ds)"
   ]
  },
  {
   "cell_type": "code",
   "execution_count": 31,
   "id": "a49f4529-cf6e-4905-a703-34471910f8e1",
   "metadata": {},
   "outputs": [
    {
     "data": {
      "text/plain": [
       "(788220.0, 10.0, 0.0, 4925430.0, 0.0, -10.0)"
      ]
     },
     "execution_count": 31,
     "metadata": {},
     "output_type": "execute_result"
    }
   ],
   "source": [
    "ds.GetGeoTransform()"
   ]
  },
  {
   "cell_type": "code",
   "execution_count": 34,
   "id": "620d9222-2d58-4211-869a-f21b700d3712",
   "metadata": {},
   "outputs": [],
   "source": [
    "def write_out_oic_results_block_matching(disp_fn):\n",
    "    t1, t2 = timelib.fn_getdatetime_list(disp_fn)\n",
    "    ds = iolib.fn_getds(disp_fn)\n",
    "    disp_x,disp_y = [iolib.ds_getma(ds,x) for x in [1,2]]\n",
    "    t1_str = t1.strftime('%Y%m%d') \n",
    "    t2_str = t2.strftime('%Y%m%d') \n",
    "    dt = t2 - t1\n",
    "    t_factor = timelib.get_t_factor(t1,t2)\n",
    "    gt = ds.GetGeoTransform()\n",
    "    proj = ds.GetProjection()\n",
    "    ic_oc_vx_fn = os.path.join(ic_of_outdir,f'EW_{t1_str}-{t2_str}_raw.tif')\n",
    "    ic_oc_vy_fn = os.path.join(ic_of_outdir,f'NS_{t1_str}-{t2_str}_raw.tif')\n",
    "    iolib.writeGTiff(disp_x, ic_oc_vx_fn,ndv=-9999,gt=gt,proj=proj)\n",
    "    iolib.writeGTiff(disp_y, ic_oc_vy_fn,ndv=-9999,gt=gt,proj=proj)\n",
    "    \n",
    "    disp_oc_vx_fn = os.path.join(displacement_outdir,f'EW_{t1_str}-{t2_str}_disp_tot.tif')\n",
    "    disp_oc_vy_fn = os.path.join(displacement_outdir,f'NS_{t1_str}-{t2_str}_disp_tot.tif')\n",
    "    res_x,res_y = geolib.get_res(ds)\n",
    "    iolib.writeGTiff(disp_x*res_x, disp_oc_vx_fn,ndv=-9999,gt=gt,proj=proj)\n",
    "    iolib.writeGTiff(disp_y*res_y, disp_oc_vy_fn,ndv=-9999,gt=gt,proj=proj)\n",
    "    \n",
    "    vel_oc_vx_fn = os.path.join(velocity_outdir,f'EW_{t1_str}-{t2_str}_vel_mean.tif')\n",
    "    vel_oc_vy_fn = os.path.join(velocity_outdir,f'NS_{t1_str}-{t2_str}_vel_mean.tif')\n",
    "    iolib.writeGTiff((disp_x*res_x)/t_factor, vel_oc_vx_fn,ndv=-9999,gt=gt,proj=proj)\n",
    "    iolib.writeGTiff((disp_y*res_y)/t_factor, vel_oc_vy_fn,ndv=-9999,gt=gt,proj=proj)"
   ]
  },
  {
   "cell_type": "code",
   "execution_count": 35,
   "id": "53f4c68c-043d-49a9-a0a8-4a7b53e61815",
   "metadata": {},
   "outputs": [],
   "source": [
    "write_out_oic_results_block_matching(sample_disp_fn)\n"
   ]
  },
  {
   "cell_type": "code",
   "execution_count": 39,
   "id": "3685aac6-49a1-4137-ba0f-93061c350698",
   "metadata": {},
   "outputs": [],
   "source": [
    "for disp in disp_rd_fn_list:\n",
    "    write_out_oic_results_block_matching(disp)"
   ]
  },
  {
   "cell_type": "markdown",
   "id": "d48b53c9-cefa-4745-b104-c4607adbb500",
   "metadata": {},
   "source": [
    "## MGM writeout"
   ]
  },
  {
   "cell_type": "code",
   "execution_count": 40,
   "id": "a7f68dcb-884a-4370-b82d-edc598df5c05",
   "metadata": {},
   "outputs": [],
   "source": [
    "outdir = 'asp_mgm/Sentinel2/'\n",
    "ic_of_outdir = os.path.join(outdir,'IC-OF_RESULTS')\n",
    "velocity_outdir = os.path.join(outdir,'VELOCITY')\n",
    "displacement_outdir = os.path.join(outdir,'DISPLACEMENT')\n",
    "if not os.path.exists(outdir):\n",
    "    os.makedirs(outdir)\n",
    "if not os.path.exists(ic_of_outdir):\n",
    "    os.makedirs(ic_of_outdir)\n",
    "if not os.path.exists(velocity_outdir):\n",
    "    os.makedirs(velocity_outdir)\n",
    "if not os.path.exists(displacement_outdir):\n",
    "    os.makedirs(displacement_outdir)"
   ]
  },
  {
   "cell_type": "code",
   "execution_count": 41,
   "id": "d95d6454-c304-42c9-a39a-55e97d44c96b",
   "metadata": {},
   "outputs": [
    {
     "name": "stdout",
     "output_type": "stream",
     "text": [
      "The program produced 36 velocity pairs\n"
     ]
    }
   ],
   "source": [
    "vx_fn_list = sorted(glob.glob('s2_mgm/T*/T*_vx*.tif'))\n",
    "vy_fn_list = sorted(glob.glob('s2_mgm/T*/T*_vy*.tif'))\n",
    "print(f\"The program produced {len(vx_fn_list)} velocity pairs\")\n",
    "                         "
   ]
  },
  {
   "cell_type": "code",
   "execution_count": 43,
   "id": "8c46860a-b1cd-4e40-b313-f34b0bbc7f4e",
   "metadata": {},
   "outputs": [],
   "source": [
    "def write_out_oic_results_mgm_matching(vx_fn,vy_fn):\n",
    "    t1, t2 = timelib.fn_getdatetime_list(vx_fn)\n",
    "    vx_ds = iolib.fn_getds(vx_fn)\n",
    "    vy_ds = iolib.fn_getds(vy_fn)\n",
    "    disp_x,disp_y = [iolib.ds_getma(ds) for ds in [vx_ds,vy_ds]]\n",
    "    t1_str = t1.strftime('%Y%m%d') \n",
    "    t2_str = t2.strftime('%Y%m%d') \n",
    "    dt = t2 - t1\n",
    "    t_factor = timelib.get_t_factor(t1,t2)\n",
    "    gt = vx_ds.GetGeoTransform()\n",
    "    proj = vx_ds.GetProjection()\n",
    "    ic_oc_vx_fn = os.path.join(ic_of_outdir,f'EW_{t1_str}-{t2_str}_raw.tif')\n",
    "    ic_oc_vy_fn = os.path.join(ic_of_outdir,f'NS_{t1_str}-{t2_str}_raw.tif')\n",
    "    iolib.writeGTiff(disp_x, ic_oc_vx_fn,ndv=-9999,gt=gt,proj=proj)\n",
    "    iolib.writeGTiff(disp_y, ic_oc_vy_fn,ndv=-9999,gt=gt,proj=proj)\n",
    "    \n",
    "    disp_oc_vx_fn = os.path.join(displacement_outdir,f'EW_{t1_str}-{t2_str}_disp_tot.tif')\n",
    "    disp_oc_vy_fn = os.path.join(displacement_outdir,f'NS_{t1_str}-{t2_str}_disp_tot.tif')\n",
    "    res_x,res_y = geolib.get_res(vx_ds)\n",
    "    iolib.writeGTiff(disp_x*res_x, disp_oc_vx_fn,ndv=-9999,gt=gt,proj=proj)\n",
    "    iolib.writeGTiff(disp_y*res_y, disp_oc_vy_fn,ndv=-9999,gt=gt,proj=proj)\n",
    "    \n",
    "    vel_oc_vx_fn = os.path.join(velocity_outdir,f'EW_{t1_str}-{t2_str}_vel_mean.tif')\n",
    "    vel_oc_vy_fn = os.path.join(velocity_outdir,f'NS_{t1_str}-{t2_str}_vel_mean.tif')\n",
    "    iolib.writeGTiff((disp_x*res_x)/t_factor, vel_oc_vx_fn,ndv=-9999,gt=gt,proj=proj)\n",
    "    iolib.writeGTiff((disp_y*res_y)/t_factor, vel_oc_vy_fn,ndv=-9999,gt=gt,proj=proj)"
   ]
  },
  {
   "cell_type": "code",
   "execution_count": 44,
   "id": "08db7099-9dea-4398-a7c1-174fe9524e01",
   "metadata": {},
   "outputs": [],
   "source": [
    "for idx,vx_fn in enumerate(vx_fn_list):\n",
    "    write_out_oic_results_mgm_matching(vx_fn,vy_fn_list[idx])"
   ]
  },
  {
   "cell_type": "markdown",
   "id": "d5f07303-2cd9-4f81-bdd9-959e04512f75",
   "metadata": {},
   "source": [
    "### PHR results"
   ]
  },
  {
   "cell_type": "code",
   "execution_count": 45,
   "id": "e7d1c725-a1e9-4fc9-bc15-4eff6d6bcc91",
   "metadata": {},
   "outputs": [],
   "source": [
    "outdir = 'asp_mgm/PHR_Ortho/'\n",
    "ic_of_outdir = os.path.join(outdir,'IC-OF_RESULTS')\n",
    "velocity_outdir = os.path.join(outdir,'VELOCITY')\n",
    "displacement_outdir = os.path.join(outdir,'DISPLACEMENT')\n",
    "if not os.path.exists(outdir):\n",
    "    os.makedirs(outdir)\n",
    "if not os.path.exists(ic_of_outdir):\n",
    "    os.makedirs(ic_of_outdir)\n",
    "if not os.path.exists(velocity_outdir):\n",
    "    os.makedirs(velocity_outdir)\n",
    "if not os.path.exists(displacement_outdir):\n",
    "    os.makedirs(displacement_outdir)"
   ]
  },
  {
   "cell_type": "code",
   "execution_count": 46,
   "id": "544d4690-b008-4b04-890a-dc8be8793fc5",
   "metadata": {},
   "outputs": [
    {
     "name": "stdout",
     "output_type": "stream",
     "text": [
      "The program produced 3 velocity pairs\n"
     ]
    }
   ],
   "source": [
    "vx_fn_list = sorted(glob.glob('phr_ortho/2*/2*_vx*.tif'))\n",
    "vy_fn_list = sorted(glob.glob('phr_ortho/2*/2*_vy*.tif'))\n",
    "print(f\"The program produced {len(vx_fn_list)} velocity pairs\")"
   ]
  },
  {
   "cell_type": "code",
   "execution_count": 47,
   "id": "6367a2fc-733e-4dc3-8d38-3594ced38037",
   "metadata": {},
   "outputs": [],
   "source": [
    "for idx,vx_fn in enumerate(vx_fn_list):\n",
    "    write_out_oic_results_mgm_matching(vx_fn,vy_fn_list[idx])"
   ]
  },
  {
   "cell_type": "markdown",
   "id": "4a1842b2-2db1-41fc-94db-e555e47c1391",
   "metadata": {},
   "source": [
    "## Format Quinn's results"
   ]
  },
  {
   "cell_type": "code",
   "execution_count": 1,
   "id": "57780a4d-a0f6-4994-b7e9-31bb27fe0fae",
   "metadata": {},
   "outputs": [
    {
     "name": "stdout",
     "output_type": "stream",
     "text": [
      "/nobackupp11/sbhusha1/oic_challenge\n"
     ]
    }
   ],
   "source": [
    "%cd /nobackup/sbhusha1/oic_challenge/"
   ]
  },
  {
   "cell_type": "code",
   "execution_count": 3,
   "id": "0a17dcaa-ca14-4c68-b09b-02fee94cfa9d",
   "metadata": {},
   "outputs": [],
   "source": [
    "displacement_results = sorted(glob.glob('la_valette_landslide/results/quinn/OIC_la_valette_landslide/Sentinel2/DISPLACEMENT/*ndv.tif'))\n",
    "velocity_results = sorted(glob.glob('la_valette_landslide/results/quinn/OIC_la_valette_landslide/Sentinel2/VELOCITY/*ndv.tif'))\n",
    "px_results = sorted(glob.glob('la_valette_landslide/results/quinn/OIC_la_valette_landslide/Sentinel2/IC-OF_RESULTS/*ndv.tif'))"
   ]
  },
  {
   "cell_type": "code",
   "execution_count": 5,
   "id": "123355cc-3b78-4a78-b2b3-a2dc42545bc5",
   "metadata": {},
   "outputs": [
    {
     "data": {
      "text/plain": [
       "72"
      ]
     },
     "execution_count": 5,
     "metadata": {},
     "output_type": "execute_result"
    }
   ],
   "source": [
    "len(velocity_results)"
   ]
  },
  {
   "cell_type": "code",
   "execution_count": 7,
   "id": "dcba9b3b-a6f0-45ca-816c-63c5697f4937",
   "metadata": {},
   "outputs": [],
   "source": [
    "for idx,displacement in enumerate(displacement_results):\n",
    "    displacement_outdir = 'university_of_washington_results/Site2/Sentinel2/autoRIFT/DISPLACEMENT'\n",
    "    velocity_outdir = 'university_of_washington_results/Site2/Sentinel2/autoRIFT/VELOCITY'\n",
    "    px_outdir = 'university_of_washington_results/Site2/Sentinel2/autoRIFT/IC-OF_RESULTS'\n",
    "    if not os.path.exists(displacement_outdir):\n",
    "        os.makedirs(displacement_outdir)\n",
    "    if not os.path.exists(velocity_outdir):\n",
    "        os.makedirs(velocity_outdir)\n",
    "    if not os.path.exists(px_outdir):\n",
    "        os.makedirs(px_outdir)\n",
    "    out_displacement = os.path.join(displacement_outdir,os.path.basename(displacement).split('_ndv.tif')[0]+'.tif')\n",
    "    out_velocity = os.path.join(velocity_outdir,os.path.basename(velocity_results[idx]).split('_ndv.tif')[0]+'.tif')\n",
    "    out_px = os.path.join(px_outdir,os.path.basename(px_results[idx]).split('_ndv.tif')[0]+'.tif')\n",
    "    shutil.copy2(displacement,out_displacement)\n",
    "    shutil.copy2(velocity_results[idx],out_velocity)\n",
    "    shutil.copy2(px_results[idx],out_px)"
   ]
  },
  {
   "cell_type": "code",
   "execution_count": null,
   "id": "3dc414e9-3d5f-404e-ac2a-341423d1a0a4",
   "metadata": {},
   "outputs": [],
   "source": []
  }
 ],
 "metadata": {
  "kernelspec": {
   "display_name": "Python 3 (ipykernel)",
   "language": "python",
   "name": "python3"
  },
  "language_info": {
   "codemirror_mode": {
    "name": "ipython",
    "version": 3
   },
   "file_extension": ".py",
   "mimetype": "text/x-python",
   "name": "python",
   "nbconvert_exporter": "python",
   "pygments_lexer": "ipython3",
   "version": "3.11.5"
  }
 },
 "nbformat": 4,
 "nbformat_minor": 5
}
